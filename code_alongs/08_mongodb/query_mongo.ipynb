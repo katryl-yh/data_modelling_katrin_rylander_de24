{
 "cells": [
  {
   "cell_type": "markdown",
   "metadata": {},
   "source": [
    "## Query mongodb"
   ]
  },
  {
   "cell_type": "code",
   "execution_count": 2,
   "metadata": {},
   "outputs": [
    {
     "data": {
      "text/plain": [
       "Collection(Database(MongoClient(host=['localhost:27017'], document_class=dict, tz_aware=False, connect=True, authsource='admin'), 'linkedin'), 'profile')"
      ]
     },
     "execution_count": 2,
     "metadata": {},
     "output_type": "execute_result"
    }
   ],
   "source": [
    "from connect_mongo import get_collection\n",
    "\n",
    "profiles = get_collection (\"linkedin\", \"profile\")\n",
    "profiles"
   ]
  },
  {
   "cell_type": "code",
   "execution_count": 3,
   "metadata": {},
   "outputs": [
    {
     "data": {
      "text/plain": [
       "{'_id': ObjectId('67e12d5f732643983fbb603c'),\n",
       " 'user_id': 42145,\n",
       " 'first_name': 'Kokchun',\n",
       " 'last_name': 'Giang',\n",
       " 'about': 'Data engineer, scientist, and educator passionate about turning messy data into valuable insights. Loves open-source projects and community contributions.',\n",
       " 'photo_url': 'https://media.licdn.com/digitalprofile/kokchun',\n",
       " 'experience': [{'title': 'Founder & Lead Consultant',\n",
       "   'organization': 'AIgineer',\n",
       "   'start_date': '2024-01',\n",
       "   'end_date': 'present',\n",
       "   'description': 'Advising businesses on integrating AI solutions and developing custom data engineering pipelines.'},\n",
       "  {'title': 'Lecturer in AI and Machine Learning',\n",
       "   'organization': 'IT-HÃ¶gskolan',\n",
       "   'start_date': '2021-01',\n",
       "   'end_date': '2023-12',\n",
       "   'description': 'Taught courses on AI, machine learning, and data analytics to undergraduate and graduate students.'}]}"
      ]
     },
     "execution_count": 3,
     "metadata": {},
     "output_type": "execute_result"
    }
   ],
   "source": [
    "profiles.find_one()"
   ]
  },
  {
   "cell_type": "code",
   "execution_count": 5,
   "metadata": {},
   "outputs": [
    {
     "data": {
      "text/plain": [
       "{'_id': ObjectId('67e12d5f732643983fbb603e'),\n",
       " 'user_id': 42147,\n",
       " 'first_name': 'Alice',\n",
       " 'last_name': 'Smith',\n",
       " 'about': 'AI enthusiast with a strong background in operations and a drive to integrate smart systems into everyday business.',\n",
       " 'photo_url': 'https://example.com/photos/alicesmith',\n",
       " 'experience': [{'title': 'Operations Analyst',\n",
       "   'organization': 'SmartOps LLC',\n",
       "   'start_date': '2020-03',\n",
       "   'end_date': 'present',\n",
       "   'description': 'Utilizes data analytics and AI to optimize operational workflows and reduce inefficiencies.'},\n",
       "  {'title': 'Research Assistant in Machine Learning',\n",
       "   'organization': 'Tech University Lab',\n",
       "   'start_date': '2019-01',\n",
       "   'end_date': '2020-02',\n",
       "   'description': 'Supported research projects on predictive modeling and anomaly detection.'}],\n",
       " 'education': [{'degree': 'B.Sc. in Industrial Engineering',\n",
       "   'institution': 'Tech University',\n",
       "   'start_date': '2015-09',\n",
       "   'end_date': '2019-06',\n",
       "   'description': 'Studied process optimization, statistics, and the integration of technology in manufacturing.'},\n",
       "  {'degree': 'Certification in Machine Learning',\n",
       "   'institution': 'Online Bootcamp',\n",
       "   'start_date': '2020-07',\n",
       "   'end_date': '2020-12',\n",
       "   'description': 'Intensive course covering the basics of machine learning, Python programming, and model deployment.'}]}"
      ]
     },
     "execution_count": 5,
     "metadata": {},
     "output_type": "execute_result"
    }
   ],
   "source": [
    "profiles.find_one({\"first_name\":\"Alice\"})"
   ]
  },
  {
   "cell_type": "code",
   "execution_count": 6,
   "metadata": {},
   "outputs": [
    {
     "data": {
      "text/plain": [
       "{'title': 'Operations Analyst',\n",
       " 'organization': 'SmartOps LLC',\n",
       " 'start_date': '2020-03',\n",
       " 'end_date': 'present',\n",
       " 'description': 'Utilizes data analytics and AI to optimize operational workflows and reduce inefficiencies.'}"
      ]
     },
     "execution_count": 6,
     "metadata": {},
     "output_type": "execute_result"
    }
   ],
   "source": [
    "profiles.find_one({\"first_name\":\"Alice\"})[\"experience\"][0]"
   ]
  },
  {
   "cell_type": "code",
   "execution_count": 10,
   "metadata": {},
   "outputs": [
    {
     "data": {
      "text/plain": [
       "{'title': 'Operations Analyst',\n",
       " 'organization': 'SmartOps LLC',\n",
       " 'start_date': '2020-03',\n",
       " 'end_date': 'present',\n",
       " 'description': 'Utilizes data analytics and AI to optimize operational workflows and reduce inefficiencies.'}"
      ]
     },
     "execution_count": 10,
     "metadata": {},
     "output_type": "execute_result"
    }
   ],
   "source": [
    "profiles.find_one({\"first_name\":\"Alice\"}).get(\"experience\")[0]"
   ]
  },
  {
   "cell_type": "code",
   "execution_count": 13,
   "metadata": {},
   "outputs": [
    {
     "data": {
      "text/plain": [
       "2"
      ]
     },
     "execution_count": 13,
     "metadata": {},
     "output_type": "execute_result"
    }
   ],
   "source": [
    "new_profiles = [profile for profile in profiles.find({\"first_name\": \"Maria\"})]\n",
    "len(new_profiles)"
   ]
  },
  {
   "cell_type": "code",
   "execution_count": 14,
   "metadata": {},
   "outputs": [
    {
     "data": {
      "text/plain": [
       "{'_id': ObjectId('67e12d5f732643983fbb6040'),\n",
       " 'user_id': 42149,\n",
       " 'first_name': 'Maria',\n",
       " 'last_name': 'Garcia',\n",
       " 'about': 'Data-driven professional with interests in AI, machine learning, and building robust operational frameworks for tech companies.',\n",
       " 'photo_url': 'https://example.com/photos/mariagarcia',\n",
       " 'experience': [{'title': 'Data Analyst',\n",
       "   'organization': 'Analytics Pros',\n",
       "   'start_date': '2019-08',\n",
       "   'end_date': '2021-11',\n",
       "   'description': 'Analyzed large datasets to drive insights for business improvements and operational efficiency.'},\n",
       "  {'title': 'MLOps Trainee',\n",
       "   'organization': 'Innovative Tech Labs',\n",
       "   'start_date': '2022-01',\n",
       "   'end_date': '2022-12',\n",
       "   'description': 'Supported the implementation of continuous integration pipelines for machine learning projects.'}],\n",
       " 'education': [{'degree': 'B.Sc. in Statistics',\n",
       "   'institution': 'University of Madrid',\n",
       "   'start_date': '2015-09',\n",
       "   'end_date': '2019-06',\n",
       "   'description': 'Focused on statistical methods, data analysis, and probability theory.'},\n",
       "  {'degree': 'Short Course in Python for Data Analysis',\n",
       "   'institution': 'Local Coding Bootcamp',\n",
       "   'start_date': '2020-03',\n",
       "   'end_date': '2020-05',\n",
       "   'description': 'An introductory course to Python programming and data manipulation libraries.'}]}"
      ]
     },
     "execution_count": 14,
     "metadata": {},
     "output_type": "execute_result"
    }
   ],
   "source": [
    "new_profiles[1]"
   ]
  },
  {
   "cell_type": "code",
   "execution_count": null,
   "metadata": {},
   "outputs": [],
   "source": []
  }
 ],
 "metadata": {
  "kernelspec": {
   "display_name": ".venv",
   "language": "python",
   "name": "python3"
  },
  "language_info": {
   "codemirror_mode": {
    "name": "ipython",
    "version": 3
   },
   "file_extension": ".py",
   "mimetype": "text/x-python",
   "name": "python",
   "nbconvert_exporter": "python",
   "pygments_lexer": "ipython3",
   "version": "3.12.3"
  }
 },
 "nbformat": 4,
 "nbformat_minor": 2
}
